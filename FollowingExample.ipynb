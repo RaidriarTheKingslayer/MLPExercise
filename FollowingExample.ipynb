{
 "cells": [
  {
   "cell_type": "code",
   "execution_count": 15,
   "id": "a62ef250-8b5c-4e9c-a76c-44f4b4c9e706",
   "metadata": {},
   "outputs": [],
   "source": [
    "import numpy as np"
   ]
  },
  {
   "cell_type": "code",
   "execution_count": 16,
   "id": "34922df8-1b55-467f-a829-bb2a29179d32",
   "metadata": {},
   "outputs": [],
   "source": [
    "import tensorflow as tf"
   ]
  },
  {
   "cell_type": "code",
   "execution_count": 5,
   "id": "0780c0c9-0b99-481f-ba53-b0dde69118ca",
   "metadata": {},
   "outputs": [
    {
     "name": "stdout",
     "output_type": "stream",
     "text": [
      "Collecting pandas\n",
      "  Obtaining dependency information for pandas from https://files.pythonhosted.org/packages/b7/f8/32d6b5aa4c4bc045fa2c4c58f88c325facc54721956c6313f0afea8ea853/pandas-2.1.0-cp311-cp311-win_amd64.whl.metadata\n",
      "  Downloading pandas-2.1.0-cp311-cp311-win_amd64.whl.metadata (18 kB)\n",
      "Requirement already satisfied: numpy>=1.23.2 in c:\\users\\user\\appdata\\local\\programs\\python\\python311\\lib\\site-packages (from pandas) (1.24.3)\n",
      "Requirement already satisfied: python-dateutil>=2.8.2 in c:\\users\\user\\appdata\\local\\programs\\python\\python311\\lib\\site-packages (from pandas) (2.8.2)\n",
      "Collecting pytz>=2020.1 (from pandas)\n",
      "  Downloading pytz-2023.3-py2.py3-none-any.whl (502 kB)\n",
      "     ---------------------------------------- 0.0/502.3 kB ? eta -:--:--\n",
      "      --------------------------------------- 10.2/502.3 kB ? eta -:--:--\n",
      "     --- --------------------------------- 41.0/502.3 kB 653.6 kB/s eta 0:00:01\n",
      "     ------------------------- ------------ 337.9/502.3 kB 3.5 MB/s eta 0:00:01\n",
      "     -------------------------------------- 502.3/502.3 kB 3.9 MB/s eta 0:00:00\n",
      "Collecting tzdata>=2022.1 (from pandas)\n",
      "  Downloading tzdata-2023.3-py2.py3-none-any.whl (341 kB)\n",
      "     ---------------------------------------- 0.0/341.8 kB ? eta -:--:--\n",
      "     ------------------------------------- 341.8/341.8 kB 10.7 MB/s eta 0:00:00\n",
      "Requirement already satisfied: six>=1.5 in c:\\users\\user\\appdata\\local\\programs\\python\\python311\\lib\\site-packages (from python-dateutil>=2.8.2->pandas) (1.16.0)\n",
      "Downloading pandas-2.1.0-cp311-cp311-win_amd64.whl (11.0 MB)\n",
      "   ---------------------------------------- 0.0/11.0 MB ? eta -:--:--\n",
      "   -- ------------------------------------- 0.6/11.0 MB 17.5 MB/s eta 0:00:01\n",
      "   ---- ----------------------------------- 1.2/11.0 MB 15.4 MB/s eta 0:00:01\n",
      "   ------ --------------------------------- 1.9/11.0 MB 15.1 MB/s eta 0:00:01\n",
      "   --------- ------------------------------ 2.7/11.0 MB 15.8 MB/s eta 0:00:01\n",
      "   ------------- -------------------------- 3.7/11.0 MB 16.7 MB/s eta 0:00:01\n",
      "   ----------------- ---------------------- 4.7/11.0 MB 17.7 MB/s eta 0:00:01\n",
      "   ------------------ --------------------- 5.1/11.0 MB 16.3 MB/s eta 0:00:01\n",
      "   ------------------ --------------------- 5.2/11.0 MB 15.3 MB/s eta 0:00:01\n",
      "   ------------------- -------------------- 5.4/11.0 MB 13.4 MB/s eta 0:00:01\n",
      "   ---------------------- ----------------- 6.1/11.0 MB 13.4 MB/s eta 0:00:01\n",
      "   ----------------------- ---------------- 6.5/11.0 MB 13.0 MB/s eta 0:00:01\n",
      "   ------------------------ --------------- 6.9/11.0 MB 12.6 MB/s eta 0:00:01\n",
      "   -------------------------- ------------- 7.3/11.0 MB 12.3 MB/s eta 0:00:01\n",
      "   --------------------------- ------------ 7.7/11.0 MB 12.0 MB/s eta 0:00:01\n",
      "   ----------------------------- ---------- 8.1/11.0 MB 11.7 MB/s eta 0:00:01\n",
      "   ------------------------------ --------- 8.5/11.0 MB 11.5 MB/s eta 0:00:01\n",
      "   -------------------------------- ------- 8.9/11.0 MB 11.3 MB/s eta 0:00:01\n",
      "   --------------------------------- ------ 9.3/11.0 MB 11.2 MB/s eta 0:00:01\n",
      "   ----------------------------------- ---- 9.7/11.0 MB 11.0 MB/s eta 0:00:01\n",
      "   ------------------------------------ --- 10.1/11.0 MB 11.0 MB/s eta 0:00:01\n",
      "   -------------------------------------- - 10.6/11.0 MB 10.7 MB/s eta 0:00:01\n",
      "   ---------------------------------------  11.0/11.0 MB 10.6 MB/s eta 0:00:01\n",
      "   ---------------------------------------  11.0/11.0 MB 10.7 MB/s eta 0:00:01\n",
      "   ---------------------------------------  11.0/11.0 MB 10.7 MB/s eta 0:00:01\n",
      "   ---------------------------------------- 11.0/11.0 MB 9.8 MB/s eta 0:00:00\n",
      "Installing collected packages: pytz, tzdata, pandas\n",
      "Successfully installed pandas-2.1.0 pytz-2023.3 tzdata-2023.3\n"
     ]
    }
   ],
   "source": [
    "!pip install pandas"
   ]
  },
  {
   "cell_type": "code",
   "execution_count": 17,
   "id": "00243aca-3a97-433b-b9fb-2ca869c0a59e",
   "metadata": {},
   "outputs": [],
   "source": [
    "import pandas as pd"
   ]
  },
  {
   "cell_type": "code",
   "execution_count": 36,
   "id": "8d3ef5c4-ef1f-4c91-bce8-34d82d1fe274",
   "metadata": {},
   "outputs": [
    {
     "name": "stdout",
     "output_type": "stream",
     "text": [
      "Requirement already satisfied: scikit-learn in c:\\users\\user\\appdata\\local\\programs\\python\\python311\\lib\\site-packages (1.3.0)\n",
      "Requirement already satisfied: numpy>=1.17.3 in c:\\users\\user\\appdata\\local\\programs\\python\\python311\\lib\\site-packages (from scikit-learn) (1.24.3)\n",
      "Requirement already satisfied: scipy>=1.5.0 in c:\\users\\user\\appdata\\local\\programs\\python\\python311\\lib\\site-packages (from scikit-learn) (1.11.2)\n",
      "Requirement already satisfied: joblib>=1.1.1 in c:\\users\\user\\appdata\\local\\programs\\python\\python311\\lib\\site-packages (from scikit-learn) (1.3.2)\n",
      "Requirement already satisfied: threadpoolctl>=2.0.0 in c:\\users\\user\\appdata\\local\\programs\\python\\python311\\lib\\site-packages (from scikit-learn) (3.2.0)\n"
     ]
    }
   ],
   "source": [
    "!pip install scikit-learn"
   ]
  },
  {
   "cell_type": "code",
   "execution_count": 37,
   "id": "613d1f39-bad0-404d-b8d5-1af2759e132f",
   "metadata": {},
   "outputs": [],
   "source": [
    "import sklearn as sk"
   ]
  },
  {
   "cell_type": "code",
   "execution_count": 5,
   "id": "32b01ab8-5522-4c25-9969-ea9e70858237",
   "metadata": {},
   "outputs": [],
   "source": [
    "dataset = pd.read_csv('diabetes_prediction_dataset.csv')"
   ]
  },
  {
   "cell_type": "code",
   "execution_count": 6,
   "id": "2e132dd5-7480-4b89-b971-e9a48f7c100c",
   "metadata": {},
   "outputs": [
    {
     "data": {
      "text/html": [
       "<div>\n",
       "<style scoped>\n",
       "    .dataframe tbody tr th:only-of-type {\n",
       "        vertical-align: middle;\n",
       "    }\n",
       "\n",
       "    .dataframe tbody tr th {\n",
       "        vertical-align: top;\n",
       "    }\n",
       "\n",
       "    .dataframe thead th {\n",
       "        text-align: right;\n",
       "    }\n",
       "</style>\n",
       "<table border=\"1\" class=\"dataframe\">\n",
       "  <thead>\n",
       "    <tr style=\"text-align: right;\">\n",
       "      <th></th>\n",
       "      <th>gender</th>\n",
       "      <th>age</th>\n",
       "      <th>hypertension</th>\n",
       "      <th>heart_disease</th>\n",
       "      <th>smoking_history</th>\n",
       "      <th>bmi</th>\n",
       "      <th>HbA1c_level</th>\n",
       "      <th>blood_glucose_level</th>\n",
       "      <th>diabetes</th>\n",
       "    </tr>\n",
       "  </thead>\n",
       "  <tbody>\n",
       "    <tr>\n",
       "      <th>0</th>\n",
       "      <td>Female</td>\n",
       "      <td>80.0</td>\n",
       "      <td>0</td>\n",
       "      <td>1</td>\n",
       "      <td>never</td>\n",
       "      <td>25.19</td>\n",
       "      <td>6.6</td>\n",
       "      <td>140</td>\n",
       "      <td>0</td>\n",
       "    </tr>\n",
       "    <tr>\n",
       "      <th>1</th>\n",
       "      <td>Female</td>\n",
       "      <td>54.0</td>\n",
       "      <td>0</td>\n",
       "      <td>0</td>\n",
       "      <td>No Info</td>\n",
       "      <td>27.32</td>\n",
       "      <td>6.6</td>\n",
       "      <td>80</td>\n",
       "      <td>0</td>\n",
       "    </tr>\n",
       "    <tr>\n",
       "      <th>2</th>\n",
       "      <td>Male</td>\n",
       "      <td>28.0</td>\n",
       "      <td>0</td>\n",
       "      <td>0</td>\n",
       "      <td>never</td>\n",
       "      <td>27.32</td>\n",
       "      <td>5.7</td>\n",
       "      <td>158</td>\n",
       "      <td>0</td>\n",
       "    </tr>\n",
       "    <tr>\n",
       "      <th>3</th>\n",
       "      <td>Female</td>\n",
       "      <td>36.0</td>\n",
       "      <td>0</td>\n",
       "      <td>0</td>\n",
       "      <td>current</td>\n",
       "      <td>23.45</td>\n",
       "      <td>5.0</td>\n",
       "      <td>155</td>\n",
       "      <td>0</td>\n",
       "    </tr>\n",
       "    <tr>\n",
       "      <th>4</th>\n",
       "      <td>Male</td>\n",
       "      <td>76.0</td>\n",
       "      <td>1</td>\n",
       "      <td>1</td>\n",
       "      <td>current</td>\n",
       "      <td>20.14</td>\n",
       "      <td>4.8</td>\n",
       "      <td>155</td>\n",
       "      <td>0</td>\n",
       "    </tr>\n",
       "    <tr>\n",
       "      <th>...</th>\n",
       "      <td>...</td>\n",
       "      <td>...</td>\n",
       "      <td>...</td>\n",
       "      <td>...</td>\n",
       "      <td>...</td>\n",
       "      <td>...</td>\n",
       "      <td>...</td>\n",
       "      <td>...</td>\n",
       "      <td>...</td>\n",
       "    </tr>\n",
       "    <tr>\n",
       "      <th>99995</th>\n",
       "      <td>Female</td>\n",
       "      <td>80.0</td>\n",
       "      <td>0</td>\n",
       "      <td>0</td>\n",
       "      <td>No Info</td>\n",
       "      <td>27.32</td>\n",
       "      <td>6.2</td>\n",
       "      <td>90</td>\n",
       "      <td>0</td>\n",
       "    </tr>\n",
       "    <tr>\n",
       "      <th>99996</th>\n",
       "      <td>Female</td>\n",
       "      <td>2.0</td>\n",
       "      <td>0</td>\n",
       "      <td>0</td>\n",
       "      <td>No Info</td>\n",
       "      <td>17.37</td>\n",
       "      <td>6.5</td>\n",
       "      <td>100</td>\n",
       "      <td>0</td>\n",
       "    </tr>\n",
       "    <tr>\n",
       "      <th>99997</th>\n",
       "      <td>Male</td>\n",
       "      <td>66.0</td>\n",
       "      <td>0</td>\n",
       "      <td>0</td>\n",
       "      <td>former</td>\n",
       "      <td>27.83</td>\n",
       "      <td>5.7</td>\n",
       "      <td>155</td>\n",
       "      <td>0</td>\n",
       "    </tr>\n",
       "    <tr>\n",
       "      <th>99998</th>\n",
       "      <td>Female</td>\n",
       "      <td>24.0</td>\n",
       "      <td>0</td>\n",
       "      <td>0</td>\n",
       "      <td>never</td>\n",
       "      <td>35.42</td>\n",
       "      <td>4.0</td>\n",
       "      <td>100</td>\n",
       "      <td>0</td>\n",
       "    </tr>\n",
       "    <tr>\n",
       "      <th>99999</th>\n",
       "      <td>Female</td>\n",
       "      <td>57.0</td>\n",
       "      <td>0</td>\n",
       "      <td>0</td>\n",
       "      <td>current</td>\n",
       "      <td>22.43</td>\n",
       "      <td>6.6</td>\n",
       "      <td>90</td>\n",
       "      <td>0</td>\n",
       "    </tr>\n",
       "  </tbody>\n",
       "</table>\n",
       "<p>100000 rows × 9 columns</p>\n",
       "</div>"
      ],
      "text/plain": [
       "       gender   age  hypertension  heart_disease smoking_history    bmi  \\\n",
       "0      Female  80.0             0              1           never  25.19   \n",
       "1      Female  54.0             0              0         No Info  27.32   \n",
       "2        Male  28.0             0              0           never  27.32   \n",
       "3      Female  36.0             0              0         current  23.45   \n",
       "4        Male  76.0             1              1         current  20.14   \n",
       "...       ...   ...           ...            ...             ...    ...   \n",
       "99995  Female  80.0             0              0         No Info  27.32   \n",
       "99996  Female   2.0             0              0         No Info  17.37   \n",
       "99997    Male  66.0             0              0          former  27.83   \n",
       "99998  Female  24.0             0              0           never  35.42   \n",
       "99999  Female  57.0             0              0         current  22.43   \n",
       "\n",
       "       HbA1c_level  blood_glucose_level  diabetes  \n",
       "0              6.6                  140         0  \n",
       "1              6.6                   80         0  \n",
       "2              5.7                  158         0  \n",
       "3              5.0                  155         0  \n",
       "4              4.8                  155         0  \n",
       "...            ...                  ...       ...  \n",
       "99995          6.2                   90         0  \n",
       "99996          6.5                  100         0  \n",
       "99997          5.7                  155         0  \n",
       "99998          4.0                  100         0  \n",
       "99999          6.6                   90         0  \n",
       "\n",
       "[100000 rows x 9 columns]"
      ]
     },
     "execution_count": 6,
     "metadata": {},
     "output_type": "execute_result"
    }
   ],
   "source": [
    "dataset"
   ]
  },
  {
   "cell_type": "code",
   "execution_count": 44,
   "id": "638c4d7b-321e-4b90-afa3-cde1e4e00262",
   "metadata": {},
   "outputs": [],
   "source": [
    "X = dataset.iloc[:, 0:9].values\n",
    "##Column 0 is Gender Column, Negative 1 is the ID##\n",
    "y = dataset.iloc[:, -1].values"
   ]
  },
  {
   "cell_type": "code",
   "execution_count": 41,
   "id": "57e024d4-a3a4-4572-84b1-07aee38ecad6",
   "metadata": {},
   "outputs": [
    {
     "data": {
      "text/plain": [
       "array([['Female', 80.0, 0, ..., 6.6, 140, 0],\n",
       "       ['Female', 54.0, 0, ..., 6.6, 80, 0],\n",
       "       ['Male', 28.0, 0, ..., 5.7, 158, 0],\n",
       "       ...,\n",
       "       ['Male', 66.0, 0, ..., 5.7, 155, 0],\n",
       "       ['Female', 24.0, 0, ..., 4.0, 100, 0],\n",
       "       ['Female', 57.0, 0, ..., 6.6, 90, 0]], dtype=object)"
      ]
     },
     "execution_count": 41,
     "metadata": {},
     "output_type": "execute_result"
    }
   ],
   "source": [
    "X"
   ]
  },
  {
   "cell_type": "code",
   "execution_count": 45,
   "id": "af1cf797-4c81-4198-bcb3-631d506647b0",
   "metadata": {},
   "outputs": [],
   "source": [
    "from sklearn.preprocessing import LabelEncoder\n",
    "le = LabelEncoder()\n",
    "X[:, 0] = le.fit_transform(X[:, 0])\n",
    "##0 Is Female , 1 is Male##"
   ]
  },
  {
   "cell_type": "code",
   "execution_count": 43,
   "id": "a6c1a267-cb00-4a45-b407-52189da204dc",
   "metadata": {},
   "outputs": [
    {
     "name": "stdout",
     "output_type": "stream",
     "text": [
      "[[0 80.0 0 ... 6.6 140 0]\n",
      " [0 54.0 0 ... 6.6 80 0]\n",
      " [1 28.0 0 ... 5.7 158 0]\n",
      " ...\n",
      " [1 66.0 0 ... 5.7 155 0]\n",
      " [0 24.0 0 ... 4.0 100 0]\n",
      " [0 57.0 0 ... 6.6 90 0]]\n"
     ]
    }
   ],
   "source": [
    "print(X)"
   ]
  },
  {
   "cell_type": "code",
   "execution_count": 62,
   "id": "f5b8884a-8786-47fa-8947-9dd3c14f4fbb",
   "metadata": {},
   "outputs": [],
   "source": [
    "from sklearn.compose import ColumnTransformer\n",
    "from sklearn.preprocessing import OneHotEncoder\n",
    "## Hot Encoding Smoke History# "
   ]
  },
  {
   "cell_type": "code",
   "execution_count": 60,
   "id": "77c550a8-0745-4cc3-a194-25ce2f347ea8",
   "metadata": {},
   "outputs": [],
   "source": [
    "ct = ColumnTransformer(transformers=[('encoder', OneHotEncoder(), [4])], remainder='passthrough')"
   ]
  },
  {
   "cell_type": "code",
   "execution_count": 61,
   "id": "182c5b1a-259d-49ad-868e-bb4f2d8ddb5c",
   "metadata": {},
   "outputs": [],
   "source": [
    "X = np.array(ct.fit_transform(X))"
   ]
  },
  {
   "cell_type": "code",
   "execution_count": 63,
   "id": "910622cb-98c1-492f-a015-dd32af1010f2",
   "metadata": {},
   "outputs": [
    {
     "name": "stdout",
     "output_type": "stream",
     "text": [
      "[[0.0 0.0 0.0 ... 6.6 140 0]\n",
      " [1.0 0.0 0.0 ... 6.6 80 0]\n",
      " [0.0 0.0 0.0 ... 5.7 158 0]\n",
      " ...\n",
      " [0.0 0.0 0.0 ... 5.7 155 0]\n",
      " [0.0 0.0 0.0 ... 4.0 100 0]\n",
      " [0.0 1.0 0.0 ... 6.6 90 0]]\n"
     ]
    }
   ],
   "source": [
    "print(X)"
   ]
  },
  {
   "cell_type": "code",
   "execution_count": 64,
   "id": "38a18f2b-21a7-4e1c-b653-ed6ed4429745",
   "metadata": {},
   "outputs": [],
   "source": [
    "from sklearn.model_selection import train_test_split"
   ]
  },
  {
   "cell_type": "code",
   "execution_count": 65,
   "id": "54db295c-f870-4135-ab0d-d96df6d3efb8",
   "metadata": {},
   "outputs": [],
   "source": [
    "X_train, X_test, y_train, y_test = train_test_split(X, y, test_size = 0.2, random_state = 0)"
   ]
  },
  {
   "cell_type": "code",
   "execution_count": 66,
   "id": "e9bc1c5a-8ad6-4981-a804-796abbb165d5",
   "metadata": {},
   "outputs": [],
   "source": [
    "from sklearn.preprocessing import StandardScaler"
   ]
  },
  {
   "cell_type": "code",
   "execution_count": 67,
   "id": "d4eb47ab-0436-4971-9da9-2a13ab0fb43f",
   "metadata": {},
   "outputs": [],
   "source": [
    "sc = StandardScaler()"
   ]
  },
  {
   "cell_type": "code",
   "execution_count": 68,
   "id": "371a337f-d749-460c-a809-60f6dfc5b9af",
   "metadata": {},
   "outputs": [],
   "source": [
    "X_train = sc.fit_transform(X_train)"
   ]
  },
  {
   "cell_type": "code",
   "execution_count": 69,
   "id": "7cf64e64-620f-43b5-a8d2-05dab4098ea7",
   "metadata": {},
   "outputs": [],
   "source": [
    "X_test = sc.transform(X_test)"
   ]
  },
  {
   "cell_type": "code",
   "execution_count": 70,
   "id": "93291769-37dd-40ac-b7a1-8999c478c01c",
   "metadata": {},
   "outputs": [],
   "source": [
    "#ANN Building Time *Confettis*#"
   ]
  },
  {
   "cell_type": "code",
   "execution_count": 71,
   "id": "cccc57cf-7df4-42fd-9da5-f43959e1a54f",
   "metadata": {},
   "outputs": [],
   "source": [
    "ann = tf.keras.models.Sequential()"
   ]
  },
  {
   "cell_type": "code",
   "execution_count": 86,
   "id": "8a2d732d-fe33-41d3-bf1d-155a095d6299",
   "metadata": {},
   "outputs": [],
   "source": [
    "ann.add(tf.keras.layers.Dense(units=4, activation='relu'))"
   ]
  },
  {
   "cell_type": "code",
   "execution_count": 85,
   "id": "6afa2c76-66f8-4c5b-93d8-8d5b7b6d7da8",
   "metadata": {},
   "outputs": [],
   "source": [
    "ann.add(tf.keras.layers.Dense(units=4, activation='relu'))"
   ]
  },
  {
   "cell_type": "code",
   "execution_count": 74,
   "id": "589fd77d-d5aa-4e63-9cb1-428993e964ec",
   "metadata": {},
   "outputs": [],
   "source": [
    "ann.add(tf.keras.layers.Dense(units=1, activation='sigmoid'))"
   ]
  },
  {
   "cell_type": "code",
   "execution_count": 75,
   "id": "faa766a0-4a89-4a27-a572-03306f6b2dca",
   "metadata": {},
   "outputs": [],
   "source": [
    "ann.compile(optimizer = 'adam', loss = 'binary_crossentropy', metrics = ['accuracy'])"
   ]
  },
  {
   "cell_type": "code",
   "execution_count": 76,
   "id": "f93085a1-f9b0-4987-9caf-7d3f4c0b89db",
   "metadata": {},
   "outputs": [
    {
     "name": "stdout",
     "output_type": "stream",
     "text": [
      "Epoch 1/100\n",
      "2500/2500 [==============================] - 4s 1ms/step - loss: 0.0803 - accuracy: 0.9740\n",
      "Epoch 2/100\n",
      "2500/2500 [==============================] - 3s 1ms/step - loss: 3.4590e-04 - accuracy: 1.0000\n",
      "Epoch 3/100\n",
      "2500/2500 [==============================] - 3s 1ms/step - loss: 4.8392e-05 - accuracy: 1.0000\n",
      "Epoch 4/100\n",
      "2500/2500 [==============================] - 3s 1ms/step - loss: 9.9659e-06 - accuracy: 1.0000\n",
      "Epoch 5/100\n",
      "2500/2500 [==============================] - 3s 1ms/step - loss: 2.2965e-06 - accuracy: 1.0000\n",
      "Epoch 6/100\n",
      "2500/2500 [==============================] - 3s 1ms/step - loss: 5.5586e-07 - accuracy: 1.0000\n",
      "Epoch 7/100\n",
      "2500/2500 [==============================] - 3s 1ms/step - loss: 1.3665e-07 - accuracy: 1.0000\n",
      "Epoch 8/100\n",
      "2500/2500 [==============================] - 3s 1ms/step - loss: 3.4829e-08 - accuracy: 1.0000\n",
      "Epoch 9/100\n",
      "2500/2500 [==============================] - 3s 1ms/step - loss: 9.3776e-09 - accuracy: 1.0000\n",
      "Epoch 10/100\n",
      "2500/2500 [==============================] - 3s 1ms/step - loss: 2.7728e-09 - accuracy: 1.0000\n",
      "Epoch 11/100\n",
      "2500/2500 [==============================] - 3s 1ms/step - loss: 9.9570e-10 - accuracy: 1.0000\n",
      "Epoch 12/100\n",
      "2500/2500 [==============================] - 3s 1ms/step - loss: 4.5385e-10 - accuracy: 1.0000\n",
      "Epoch 13/100\n",
      "2500/2500 [==============================] - 3s 1ms/step - loss: 2.7389e-10 - accuracy: 1.0000\n",
      "Epoch 14/100\n",
      "2500/2500 [==============================] - 3s 1ms/step - loss: 1.8979e-10 - accuracy: 1.0000\n",
      "Epoch 15/100\n",
      "2500/2500 [==============================] - 3s 1ms/step - loss: 1.4987e-10 - accuracy: 1.0000\n",
      "Epoch 16/100\n",
      "2500/2500 [==============================] - 3s 1ms/step - loss: 1.2591e-10 - accuracy: 1.0000\n",
      "Epoch 17/100\n",
      "2500/2500 [==============================] - 3s 1ms/step - loss: 1.0883e-10 - accuracy: 1.0000\n",
      "Epoch 18/100\n",
      "2500/2500 [==============================] - 3s 1ms/step - loss: 9.4904e-11 - accuracy: 1.0000\n",
      "Epoch 19/100\n",
      "2500/2500 [==============================] - 3s 1ms/step - loss: 8.5829e-11 - accuracy: 1.0000\n",
      "Epoch 20/100\n",
      "2500/2500 [==============================] - 3s 1ms/step - loss: 7.9383e-11 - accuracy: 1.0000\n",
      "Epoch 21/100\n",
      "2500/2500 [==============================] - 3s 1ms/step - loss: 7.4274e-11 - accuracy: 1.0000\n",
      "Epoch 22/100\n",
      "2500/2500 [==============================] - 3s 1ms/step - loss: 7.0538e-11 - accuracy: 1.0000\n",
      "Epoch 23/100\n",
      "2500/2500 [==============================] - 3s 1ms/step - loss: 6.7474e-11 - accuracy: 1.0000\n",
      "Epoch 24/100\n",
      "2500/2500 [==============================] - 3s 1ms/step - loss: 6.4861e-11 - accuracy: 1.0000\n",
      "Epoch 25/100\n",
      "2500/2500 [==============================] - 3s 1ms/step - loss: 6.2936e-11 - accuracy: 1.0000\n",
      "Epoch 26/100\n",
      "2500/2500 [==============================] - 3s 1ms/step - loss: 6.1212e-11 - accuracy: 1.0000\n",
      "Epoch 27/100\n",
      "2500/2500 [==============================] - 3s 1ms/step - loss: 5.9755e-11 - accuracy: 1.0000\n",
      "Epoch 28/100\n",
      "2500/2500 [==============================] - 3s 1ms/step - loss: 5.9043e-11 - accuracy: 1.0000\n",
      "Epoch 29/100\n",
      "2500/2500 [==============================] - 3s 1ms/step - loss: 5.7666e-11 - accuracy: 1.0000\n",
      "Epoch 30/100\n",
      "2500/2500 [==============================] - 3s 1ms/step - loss: 5.6576e-11 - accuracy: 1.0000\n",
      "Epoch 31/100\n",
      "2500/2500 [==============================] - 3s 1ms/step - loss: 5.5601e-11 - accuracy: 1.0000\n",
      "Epoch 32/100\n",
      "2500/2500 [==============================] - 3s 1ms/step - loss: 5.4986e-11 - accuracy: 1.0000\n",
      "Epoch 33/100\n",
      "2500/2500 [==============================] - 3s 1ms/step - loss: 5.3984e-11 - accuracy: 1.0000\n",
      "Epoch 34/100\n",
      "2500/2500 [==============================] - 3s 1ms/step - loss: 5.3685e-11 - accuracy: 1.0000\n",
      "Epoch 35/100\n",
      "2500/2500 [==============================] - 3s 1ms/step - loss: 5.2753e-11 - accuracy: 1.0000\n",
      "Epoch 36/100\n",
      "2500/2500 [==============================] - 3s 1ms/step - loss: 5.2010e-11 - accuracy: 1.0000\n",
      "Epoch 37/100\n",
      "2500/2500 [==============================] - 3s 1ms/step - loss: 5.1763e-11 - accuracy: 1.0000\n",
      "Epoch 38/100\n",
      "2500/2500 [==============================] - 3s 1ms/step - loss: 5.0958e-11 - accuracy: 1.0000\n",
      "Epoch 39/100\n",
      "2500/2500 [==============================] - 3s 1ms/step - loss: 5.0497e-11 - accuracy: 1.0000\n",
      "Epoch 40/100\n",
      "2500/2500 [==============================] - 3s 1ms/step - loss: 5.0048e-11 - accuracy: 1.0000\n",
      "Epoch 41/100\n",
      "2500/2500 [==============================] - 3s 1ms/step - loss: 4.9468e-11 - accuracy: 1.0000\n",
      "Epoch 42/100\n",
      "2500/2500 [==============================] - 3s 1ms/step - loss: 4.9325e-11 - accuracy: 1.0000\n",
      "Epoch 43/100\n",
      "2500/2500 [==============================] - 3s 1ms/step - loss: 4.9020e-11 - accuracy: 1.0000\n",
      "Epoch 44/100\n",
      "2500/2500 [==============================] - 3s 1ms/step - loss: 4.8616e-11 - accuracy: 1.0000\n",
      "Epoch 45/100\n",
      "2500/2500 [==============================] - 3s 1ms/step - loss: 4.8058e-11 - accuracy: 1.0000\n",
      "Epoch 46/100\n",
      "2500/2500 [==============================] - 3s 1ms/step - loss: 4.7793e-11 - accuracy: 1.0000\n",
      "Epoch 47/100\n",
      "2500/2500 [==============================] - 3s 1ms/step - loss: 4.7463e-11 - accuracy: 1.0000\n",
      "Epoch 48/100\n",
      "2500/2500 [==============================] - 3s 1ms/step - loss: 4.6747e-11 - accuracy: 1.0000\n",
      "Epoch 49/100\n",
      "2500/2500 [==============================] - 3s 1ms/step - loss: 4.6953e-11 - accuracy: 1.0000\n",
      "Epoch 50/100\n",
      "2500/2500 [==============================] - 4s 1ms/step - loss: 4.7045e-11 - accuracy: 1.0000\n",
      "Epoch 51/100\n",
      "2500/2500 [==============================] - 4s 1ms/step - loss: 4.6586e-11 - accuracy: 1.0000\n",
      "Epoch 52/100\n",
      "2500/2500 [==============================] - 3s 1ms/step - loss: 4.6100e-11 - accuracy: 1.0000\n",
      "Epoch 53/100\n",
      "2500/2500 [==============================] - 3s 1ms/step - loss: 4.5608e-11 - accuracy: 1.0000\n",
      "Epoch 54/100\n",
      "2500/2500 [==============================] - 3s 1ms/step - loss: 4.5799e-11 - accuracy: 1.0000\n",
      "Epoch 55/100\n",
      "2500/2500 [==============================] - 3s 1ms/step - loss: 4.5274e-11 - accuracy: 1.0000\n",
      "Epoch 56/100\n",
      "2500/2500 [==============================] - 3s 1ms/step - loss: 4.5255e-11 - accuracy: 1.0000\n",
      "Epoch 57/100\n",
      "2500/2500 [==============================] - 3s 1ms/step - loss: 4.4932e-11 - accuracy: 1.0000\n",
      "Epoch 58/100\n",
      "2500/2500 [==============================] - 3s 1ms/step - loss: 4.4741e-11 - accuracy: 1.0000\n",
      "Epoch 59/100\n",
      "2500/2500 [==============================] - 4s 1ms/step - loss: 4.4560e-11 - accuracy: 1.0000\n",
      "Epoch 60/100\n",
      "2500/2500 [==============================] - 4s 2ms/step - loss: 4.4621e-11 - accuracy: 1.0000\n",
      "Epoch 61/100\n",
      "2500/2500 [==============================] - 3s 1ms/step - loss: 4.4359e-11 - accuracy: 1.0000\n",
      "Epoch 62/100\n",
      "2500/2500 [==============================] - 3s 1ms/step - loss: 4.4151e-11 - accuracy: 1.0000\n",
      "Epoch 63/100\n",
      "2500/2500 [==============================] - 3s 1ms/step - loss: 4.3870e-11 - accuracy: 1.0000\n",
      "Epoch 64/100\n",
      "2500/2500 [==============================] - 3s 1ms/step - loss: 4.3529e-11 - accuracy: 1.0000\n",
      "Epoch 65/100\n",
      "2500/2500 [==============================] - 3s 1ms/step - loss: 4.3376e-11 - accuracy: 1.0000\n",
      "Epoch 66/100\n",
      "2500/2500 [==============================] - 3s 1ms/step - loss: 4.3004e-11 - accuracy: 1.0000\n",
      "Epoch 67/100\n",
      "2500/2500 [==============================] - 3s 1ms/step - loss: 4.2674e-11 - accuracy: 1.0000\n",
      "Epoch 68/100\n",
      "2500/2500 [==============================] - 3s 1ms/step - loss: 4.2858e-11 - accuracy: 1.0000\n",
      "Epoch 69/100\n",
      "2500/2500 [==============================] - 3s 1ms/step - loss: 4.2774e-11 - accuracy: 1.0000\n",
      "Epoch 70/100\n",
      "2500/2500 [==============================] - 3s 1ms/step - loss: 4.2480e-11 - accuracy: 1.0000\n",
      "Epoch 71/100\n",
      "2500/2500 [==============================] - 3s 1ms/step - loss: 4.2344e-11 - accuracy: 1.0000\n",
      "Epoch 72/100\n",
      "2500/2500 [==============================] - 3s 1ms/step - loss: 4.2102e-11 - accuracy: 1.0000\n",
      "Epoch 73/100\n",
      "2500/2500 [==============================] - 3s 1ms/step - loss: 4.2272e-11 - accuracy: 1.0000\n",
      "Epoch 74/100\n",
      "2500/2500 [==============================] - 3s 1ms/step - loss: 4.1858e-11 - accuracy: 1.0000\n",
      "Epoch 75/100\n",
      "2500/2500 [==============================] - 3s 1ms/step - loss: 4.1859e-11 - accuracy: 1.0000\n",
      "Epoch 76/100\n",
      "2500/2500 [==============================] - 3s 1ms/step - loss: 4.2020e-11 - accuracy: 1.0000\n",
      "Epoch 77/100\n",
      "2500/2500 [==============================] - 3s 1ms/step - loss: 4.2172e-11 - accuracy: 1.0000\n",
      "Epoch 78/100\n",
      "2500/2500 [==============================] - 3s 1ms/step - loss: 4.1798e-11 - accuracy: 1.0000\n",
      "Epoch 79/100\n",
      "2500/2500 [==============================] - 3s 1ms/step - loss: 4.1279e-11 - accuracy: 1.0000\n",
      "Epoch 80/100\n",
      "2500/2500 [==============================] - 3s 1ms/step - loss: 4.1201e-11 - accuracy: 1.0000\n",
      "Epoch 81/100\n",
      "2500/2500 [==============================] - 4s 1ms/step - loss: 4.1335e-11 - accuracy: 1.0000\n",
      "Epoch 82/100\n",
      "2500/2500 [==============================] - 3s 1ms/step - loss: 4.1504e-11 - accuracy: 1.0000\n",
      "Epoch 83/100\n",
      "2500/2500 [==============================] - 3s 1ms/step - loss: 4.1413e-11 - accuracy: 1.0000\n",
      "Epoch 84/100\n",
      "2500/2500 [==============================] - 3s 1ms/step - loss: 4.1171e-11 - accuracy: 1.0000\n",
      "Epoch 85/100\n",
      "2500/2500 [==============================] - 3s 1ms/step - loss: 4.0756e-11 - accuracy: 1.0000\n",
      "Epoch 86/100\n",
      "2500/2500 [==============================] - 4s 2ms/step - loss: 4.0725e-11 - accuracy: 1.0000\n",
      "Epoch 87/100\n",
      "2500/2500 [==============================] - 3s 1ms/step - loss: 4.0306e-11 - accuracy: 1.0000\n",
      "Epoch 88/100\n",
      "2500/2500 [==============================] - 3s 1ms/step - loss: 4.0361e-11 - accuracy: 1.0000\n",
      "Epoch 89/100\n",
      "2500/2500 [==============================] - 3s 1ms/step - loss: 4.0501e-11 - accuracy: 1.0000\n",
      "Epoch 90/100\n",
      "2500/2500 [==============================] - 3s 1ms/step - loss: 4.0590e-11 - accuracy: 1.0000\n",
      "Epoch 91/100\n",
      "2500/2500 [==============================] - 4s 1ms/step - loss: 4.0035e-11 - accuracy: 1.0000\n",
      "Epoch 92/100\n",
      "2500/2500 [==============================] - 3s 1ms/step - loss: 4.0166e-11 - accuracy: 1.0000\n",
      "Epoch 93/100\n",
      "2500/2500 [==============================] - 3s 1ms/step - loss: 4.0297e-11 - accuracy: 1.0000\n",
      "Epoch 94/100\n",
      "2500/2500 [==============================] - 3s 1ms/step - loss: 4.0159e-11 - accuracy: 1.0000\n",
      "Epoch 95/100\n",
      "2500/2500 [==============================] - 3s 1ms/step - loss: 3.9826e-11 - accuracy: 1.0000\n",
      "Epoch 96/100\n",
      "2500/2500 [==============================] - 3s 1ms/step - loss: 3.9946e-11 - accuracy: 1.0000\n",
      "Epoch 97/100\n",
      "2500/2500 [==============================] - 4s 1ms/step - loss: 4.0070e-11 - accuracy: 1.0000\n",
      "Epoch 98/100\n",
      "2500/2500 [==============================] - 3s 1ms/step - loss: 3.9652e-11 - accuracy: 1.0000\n",
      "Epoch 99/100\n",
      "2500/2500 [==============================] - 3s 1ms/step - loss: 3.9606e-11 - accuracy: 1.0000\n",
      "Epoch 100/100\n",
      "2500/2500 [==============================] - 3s 1ms/step - loss: 3.9720e-11 - accuracy: 1.0000\n"
     ]
    },
    {
     "data": {
      "text/plain": [
       "<keras.src.callbacks.History at 0x20ed1b32910>"
      ]
     },
     "execution_count": 76,
     "metadata": {},
     "output_type": "execute_result"
    }
   ],
   "source": [
    "ann.fit(X_train, y_train, batch_size = 32, epochs = 100)"
   ]
  },
  {
   "cell_type": "code",
   "execution_count": 77,
   "id": "a05dbc6a-cacc-483b-b099-56a929b16b62",
   "metadata": {},
   "outputs": [
    {
     "name": "stdout",
     "output_type": "stream",
     "text": [
      "625/625 [==============================] - 1s 926us/step\n",
      "[[0 0]\n",
      " [0 0]\n",
      " [0 0]\n",
      " ...\n",
      " [0 0]\n",
      " [0 0]\n",
      " [0 0]]\n"
     ]
    }
   ],
   "source": [
    "y_pred = ann.predict(X_test)\n",
    "y_pred = (y_pred > 0.5)\n",
    "print(np.concatenate((y_pred.reshape(len(y_pred),1), y_test.reshape(len(y_test),1)),1))"
   ]
  },
  {
   "cell_type": "code",
   "execution_count": 79,
   "id": "bb048bbd-d03e-4e35-9e8a-c5d3c00d2bfe",
   "metadata": {},
   "outputs": [],
   "source": [
    "from sklearn.metrics import confusion_matrix, accuracy_score"
   ]
  },
  {
   "cell_type": "code",
   "execution_count": 81,
   "id": "a8819b51-c845-443c-8e30-1c2d2f8bf3b4",
   "metadata": {},
   "outputs": [
    {
     "name": "stdout",
     "output_type": "stream",
     "text": [
      "Collecting matplotlib\n",
      "  Obtaining dependency information for matplotlib from https://files.pythonhosted.org/packages/4d/9c/65830d4a56c47f5283eaa244dc1228c5da9c844a9f999ebcc2e69bf6cc65/matplotlib-3.7.2-cp311-cp311-win_amd64.whl.metadata\n",
      "  Downloading matplotlib-3.7.2-cp311-cp311-win_amd64.whl.metadata (5.8 kB)\n",
      "Collecting contourpy>=1.0.1 (from matplotlib)\n",
      "  Obtaining dependency information for contourpy>=1.0.1 from https://files.pythonhosted.org/packages/16/09/989b982322439faa4bafffcd669e6f942b38fee897c2664c987bcd091dec/contourpy-1.1.0-cp311-cp311-win_amd64.whl.metadata\n",
      "  Downloading contourpy-1.1.0-cp311-cp311-win_amd64.whl.metadata (5.7 kB)\n",
      "Collecting cycler>=0.10 (from matplotlib)\n",
      "  Downloading cycler-0.11.0-py3-none-any.whl (6.4 kB)\n",
      "Collecting fonttools>=4.22.0 (from matplotlib)\n",
      "  Obtaining dependency information for fonttools>=4.22.0 from https://files.pythonhosted.org/packages/95/b6/9a5133deb5838c4dbe3ea27e8dba123622aa5112d43a079e9587636b4faf/fonttools-4.42.1-cp311-cp311-win_amd64.whl.metadata\n",
      "  Downloading fonttools-4.42.1-cp311-cp311-win_amd64.whl.metadata (154 kB)\n",
      "     ---------------------------------------- 0.0/154.1 kB ? eta -:--:--\n",
      "     ------- ----------------------------- 30.7/154.1 kB 660.6 kB/s eta 0:00:01\n",
      "     -------------------------------------  153.6/154.1 kB 1.8 MB/s eta 0:00:01\n",
      "     -------------------------------------- 154.1/154.1 kB 1.5 MB/s eta 0:00:00\n",
      "Collecting kiwisolver>=1.0.1 (from matplotlib)\n",
      "  Obtaining dependency information for kiwisolver>=1.0.1 from https://files.pythonhosted.org/packages/1e/37/d3c2d4ba2719059a0f12730947bbe1ad5ee8bff89e8c35319dcb2c9ddb4c/kiwisolver-1.4.5-cp311-cp311-win_amd64.whl.metadata\n",
      "  Downloading kiwisolver-1.4.5-cp311-cp311-win_amd64.whl.metadata (6.5 kB)\n",
      "Requirement already satisfied: numpy>=1.20 in c:\\users\\user\\appdata\\local\\programs\\python\\python311\\lib\\site-packages (from matplotlib) (1.24.3)\n",
      "Requirement already satisfied: packaging>=20.0 in c:\\users\\user\\appdata\\local\\programs\\python\\python311\\lib\\site-packages (from matplotlib) (23.1)\n",
      "Collecting pillow>=6.2.0 (from matplotlib)\n",
      "  Obtaining dependency information for pillow>=6.2.0 from https://files.pythonhosted.org/packages/66/d4/054e491f0880bf0119ee79cdc03264e01d5732e06c454da8c69b83a7c8f2/Pillow-10.0.0-cp311-cp311-win_amd64.whl.metadata\n",
      "  Downloading Pillow-10.0.0-cp311-cp311-win_amd64.whl.metadata (9.6 kB)\n",
      "Collecting pyparsing<3.1,>=2.3.1 (from matplotlib)\n",
      "  Downloading pyparsing-3.0.9-py3-none-any.whl (98 kB)\n",
      "     ---------------------------------------- 0.0/98.3 kB ? eta -:--:--\n",
      "     ---------------------------------------- 98.3/98.3 kB 5.9 MB/s eta 0:00:00\n",
      "Requirement already satisfied: python-dateutil>=2.7 in c:\\users\\user\\appdata\\local\\programs\\python\\python311\\lib\\site-packages (from matplotlib) (2.8.2)\n",
      "Requirement already satisfied: six>=1.5 in c:\\users\\user\\appdata\\local\\programs\\python\\python311\\lib\\site-packages (from python-dateutil>=2.7->matplotlib) (1.16.0)\n",
      "Downloading matplotlib-3.7.2-cp311-cp311-win_amd64.whl (7.5 MB)\n",
      "   ---------------------------------------- 0.0/7.5 MB ? eta -:--:--\n",
      "   -- ------------------------------------- 0.4/7.5 MB 8.9 MB/s eta 0:00:01\n",
      "   ---- ----------------------------------- 0.9/7.5 MB 9.7 MB/s eta 0:00:01\n",
      "   ------- -------------------------------- 1.4/7.5 MB 10.1 MB/s eta 0:00:01\n",
      "   ---------- ----------------------------- 2.1/7.5 MB 11.9 MB/s eta 0:00:01\n",
      "   ------------- -------------------------- 2.6/7.5 MB 11.7 MB/s eta 0:00:01\n",
      "   ---------------- ----------------------- 3.0/7.5 MB 11.4 MB/s eta 0:00:01\n",
      "   ------------------- -------------------- 3.7/7.5 MB 11.6 MB/s eta 0:00:01\n",
      "   --------------------- ------------------ 4.1/7.5 MB 11.3 MB/s eta 0:00:01\n",
      "   ---------------------- ----------------- 4.3/7.5 MB 10.5 MB/s eta 0:00:01\n",
      "   ------------------------ --------------- 4.6/7.5 MB 10.4 MB/s eta 0:00:01\n",
      "   ------------------------- -------------- 4.9/7.5 MB 9.7 MB/s eta 0:00:01\n",
      "   --------------------------- ------------ 5.1/7.5 MB 9.6 MB/s eta 0:00:01\n",
      "   ---------------------------- ----------- 5.3/7.5 MB 8.9 MB/s eta 0:00:01\n",
      "   ---------------------------- ----------- 5.4/7.5 MB 8.6 MB/s eta 0:00:01\n",
      "   ----------------------------- ---------- 5.6/7.5 MB 8.1 MB/s eta 0:00:01\n",
      "   ----------------------------- ---------- 5.6/7.5 MB 7.8 MB/s eta 0:00:01\n",
      "   ------------------------------ --------- 5.6/7.5 MB 7.4 MB/s eta 0:00:01\n",
      "   ------------------------------ --------- 5.7/7.5 MB 6.9 MB/s eta 0:00:01\n",
      "   ------------------------------ --------- 5.7/7.5 MB 6.7 MB/s eta 0:00:01\n",
      "   ------------------------------- -------- 5.8/7.5 MB 6.4 MB/s eta 0:00:01\n",
      "   ------------------------------- -------- 5.9/7.5 MB 6.2 MB/s eta 0:00:01\n",
      "   ------------------------------- -------- 6.0/7.5 MB 5.9 MB/s eta 0:00:01\n",
      "   -------------------------------- ------- 6.1/7.5 MB 5.7 MB/s eta 0:00:01\n",
      "   -------------------------------- ------- 6.1/7.5 MB 5.6 MB/s eta 0:00:01\n",
      "   -------------------------------- ------- 6.1/7.5 MB 5.6 MB/s eta 0:00:01\n",
      "   -------------------------------- ------- 6.1/7.5 MB 5.6 MB/s eta 0:00:01\n",
      "   -------------------------------- ------- 6.1/7.5 MB 5.6 MB/s eta 0:00:01\n",
      "   -------------------------------- ------- 6.1/7.5 MB 5.6 MB/s eta 0:00:01\n",
      "   -------------------------------- ------- 6.1/7.5 MB 5.6 MB/s eta 0:00:01\n",
      "   -------------------------------- ------- 6.1/7.5 MB 5.6 MB/s eta 0:00:01\n",
      "   --------------------------------- ------ 6.3/7.5 MB 4.4 MB/s eta 0:00:01\n",
      "   --------------------------------- ------ 6.3/7.5 MB 4.4 MB/s eta 0:00:01\n",
      "   --------------------------------- ------ 6.4/7.5 MB 4.2 MB/s eta 0:00:01\n",
      "   ---------------------------------- ----- 6.4/7.5 MB 4.1 MB/s eta 0:00:01\n",
      "   ---------------------------------- ----- 6.5/7.5 MB 4.0 MB/s eta 0:00:01\n",
      "   ---------------------------------- ----- 6.5/7.5 MB 3.9 MB/s eta 0:00:01\n",
      "   ---------------------------------- ----- 6.5/7.5 MB 3.8 MB/s eta 0:00:01\n",
      "   ----------------------------------- ---- 6.6/7.5 MB 3.8 MB/s eta 0:00:01\n",
      "   ----------------------------------- ---- 6.6/7.5 MB 3.7 MB/s eta 0:00:01\n",
      "   ----------------------------------- ---- 6.6/7.5 MB 3.6 MB/s eta 0:00:01\n",
      "   ----------------------------------- ---- 6.7/7.5 MB 3.5 MB/s eta 0:00:01\n",
      "   ----------------------------------- ---- 6.7/7.5 MB 3.5 MB/s eta 0:00:01\n",
      "   ------------------------------------ --- 6.8/7.5 MB 3.5 MB/s eta 0:00:01\n",
      "   ------------------------------------ --- 6.8/7.5 MB 3.4 MB/s eta 0:00:01\n",
      "   ------------------------------------ --- 6.9/7.5 MB 3.3 MB/s eta 0:00:01\n",
      "   ------------------------------------ --- 6.9/7.5 MB 3.3 MB/s eta 0:00:01\n",
      "   ------------------------------------ --- 6.9/7.5 MB 3.2 MB/s eta 0:00:01\n",
      "   ------------------------------------ --- 6.9/7.5 MB 3.1 MB/s eta 0:00:01\n",
      "   ------------------------------------- -- 7.0/7.5 MB 3.1 MB/s eta 0:00:01\n",
      "   ------------------------------------- -- 7.0/7.5 MB 3.0 MB/s eta 0:00:01\n",
      "   ------------------------------------- -- 7.0/7.5 MB 3.0 MB/s eta 0:00:01\n",
      "   ------------------------------------- -- 7.0/7.5 MB 2.9 MB/s eta 0:00:01\n",
      "   ------------------------------------- -- 7.1/7.5 MB 2.9 MB/s eta 0:00:01\n",
      "   ------------------------------------- -- 7.1/7.5 MB 2.9 MB/s eta 0:00:01\n",
      "   ------------------------------------- -- 7.1/7.5 MB 2.8 MB/s eta 0:00:01\n",
      "   ------------------------------------- -- 7.1/7.5 MB 2.7 MB/s eta 0:00:01\n",
      "   -------------------------------------- - 7.1/7.5 MB 2.7 MB/s eta 0:00:01\n",
      "   -------------------------------------- - 7.2/7.5 MB 2.7 MB/s eta 0:00:01\n",
      "   -------------------------------------- - 7.2/7.5 MB 2.6 MB/s eta 0:00:01\n",
      "   -------------------------------------- - 7.2/7.5 MB 2.6 MB/s eta 0:00:01\n",
      "   -------------------------------------- - 7.3/7.5 MB 2.6 MB/s eta 0:00:01\n",
      "   -------------------------------------- - 7.3/7.5 MB 2.5 MB/s eta 0:00:01\n",
      "   ---------------------------------------  7.3/7.5 MB 2.5 MB/s eta 0:00:01\n",
      "   ---------------------------------------  7.4/7.5 MB 2.5 MB/s eta 0:00:01\n",
      "   ---------------------------------------  7.4/7.5 MB 2.5 MB/s eta 0:00:01\n",
      "   ---------------------------------------  7.4/7.5 MB 2.4 MB/s eta 0:00:01\n",
      "   ---------------------------------------  7.5/7.5 MB 2.4 MB/s eta 0:00:01\n",
      "   ---------------------------------------  7.5/7.5 MB 2.4 MB/s eta 0:00:01\n",
      "   ---------------------------------------- 7.5/7.5 MB 2.4 MB/s eta 0:00:00\n",
      "Downloading contourpy-1.1.0-cp311-cp311-win_amd64.whl (470 kB)\n",
      "   ---------------------------------------- 0.0/470.9 kB ? eta -:--:--\n",
      "    --------------------------------------- 10.2/470.9 kB ? eta -:--:--\n",
      "   --- ----------------------------------- 41.0/470.9 kB 667.8 kB/s eta 0:00:01\n",
      "   ----- --------------------------------- 71.7/470.9 kB 660.6 kB/s eta 0:00:01\n",
      "   --------- ---------------------------- 112.6/470.9 kB 731.4 kB/s eta 0:00:01\n",
      "   ----------- -------------------------- 143.4/470.9 kB 655.8 kB/s eta 0:00:01\n",
      "   -------------- ----------------------- 174.1/470.9 kB 655.4 kB/s eta 0:00:01\n",
      "   ---------------- --------------------- 204.8/470.9 kB 657.3 kB/s eta 0:00:01\n",
      "   ------------------ ------------------- 225.3/470.9 kB 655.6 kB/s eta 0:00:01\n",
      "   -------------------- ----------------- 256.0/470.9 kB 655.4 kB/s eta 0:00:01\n",
      "   ----------------------- -------------- 286.7/470.9 kB 656.7 kB/s eta 0:00:01\n",
      "   --------------------------- ---------- 337.9/470.9 kB 677.0 kB/s eta 0:00:01\n",
      "   ----------------------------- -------- 368.6/470.9 kB 656.4 kB/s eta 0:00:01\n",
      "   ------------------------------- ------ 389.1/470.9 kB 655.5 kB/s eta 0:00:01\n",
      "   ----------------------------------- -- 440.3/470.9 kB 688.1 kB/s eta 0:00:01\n",
      "   -------------------------------------- 470.9/470.9 kB 702.2 kB/s eta 0:00:00\n",
      "Downloading fonttools-4.42.1-cp311-cp311-win_amd64.whl (2.1 MB)\n",
      "   ---------------------------------------- 0.0/2.1 MB ? eta -:--:--\n",
      "    --------------------------------------- 0.0/2.1 MB 991.0 kB/s eta 0:00:03\n",
      "   -- ------------------------------------- 0.2/2.1 MB 1.8 MB/s eta 0:00:02\n",
      "   ---- ----------------------------------- 0.3/2.1 MB 1.7 MB/s eta 0:00:02\n",
      "   ------ --------------------------------- 0.4/2.1 MB 2.2 MB/s eta 0:00:01\n",
      "   -------- ------------------------------- 0.5/2.1 MB 2.1 MB/s eta 0:00:01\n",
      "   ----------- ---------------------------- 0.6/2.1 MB 2.0 MB/s eta 0:00:01\n",
      "   ------------- -------------------------- 0.7/2.1 MB 2.1 MB/s eta 0:00:01\n",
      "   --------------- ------------------------ 0.8/2.1 MB 2.1 MB/s eta 0:00:01\n",
      "   ----------------- ---------------------- 0.9/2.1 MB 2.1 MB/s eta 0:00:01\n",
      "   ------------------- -------------------- 1.0/2.1 MB 2.0 MB/s eta 0:00:01\n",
      "   ----------------------- ---------------- 1.2/2.1 MB 2.2 MB/s eta 0:00:01\n",
      "   ---------------------------- ----------- 1.5/2.1 MB 2.5 MB/s eta 0:00:01\n",
      "   ---------------------------------- ----- 1.8/2.1 MB 2.9 MB/s eta 0:00:01\n",
      "   ---------------------------------------  2.1/2.1 MB 3.1 MB/s eta 0:00:01\n",
      "   ---------------------------------------- 2.1/2.1 MB 3.0 MB/s eta 0:00:00\n",
      "Downloading kiwisolver-1.4.5-cp311-cp311-win_amd64.whl (56 kB)\n",
      "   ---------------------------------------- 0.0/56.1 kB ? eta -:--:--\n",
      "   ---------------------------------------- 56.1/56.1 kB 3.1 MB/s eta 0:00:00\n",
      "Downloading Pillow-10.0.0-cp311-cp311-win_amd64.whl (2.5 MB)\n",
      "   ---------------------------------------- 0.0/2.5 MB ? eta -:--:--\n",
      "   ---- ----------------------------------- 0.3/2.5 MB 7.9 MB/s eta 0:00:01\n",
      "   ----------- ---------------------------- 0.7/2.5 MB 7.3 MB/s eta 0:00:01\n",
      "   ------------------- -------------------- 1.2/2.5 MB 8.6 MB/s eta 0:00:01\n",
      "   ---------------------------- ----------- 1.8/2.5 MB 10.2 MB/s eta 0:00:01\n",
      "   ------------------------------------- -- 2.3/2.5 MB 10.0 MB/s eta 0:00:01\n",
      "   ---------------------------------------- 2.5/2.5 MB 9.4 MB/s eta 0:00:00\n",
      "Installing collected packages: pyparsing, pillow, kiwisolver, fonttools, cycler, contourpy, matplotlib\n",
      "Successfully installed contourpy-1.1.0 cycler-0.11.0 fonttools-4.42.1 kiwisolver-1.4.5 matplotlib-3.7.2 pillow-10.0.0 pyparsing-3.0.9\n"
     ]
    }
   ],
   "source": [
    "!pip install matplotlib"
   ]
  },
  {
   "cell_type": "code",
   "execution_count": 82,
   "id": "1974cfe7-29d3-4322-b55a-44c97bcadb83",
   "metadata": {},
   "outputs": [],
   "source": [
    "import matplotlib.pyplot as plt"
   ]
  },
  {
   "cell_type": "code",
   "execution_count": 83,
   "id": "bff1f91f-b2be-420e-bfa8-33190c97d121",
   "metadata": {},
   "outputs": [
    {
     "name": "stdout",
     "output_type": "stream",
     "text": [
      "[[18297     0]\n",
      " [    0  1703]]\n"
     ]
    },
    {
     "data": {
      "text/plain": [
       "1.0"
      ]
     },
     "execution_count": 83,
     "metadata": {},
     "output_type": "execute_result"
    }
   ],
   "source": [
    "conf_matrix = confusion_matrix(y_test, y_pred)\n",
    "print(conf_matrix)\n",
    "accuracy_score(y_test, y_pred)"
   ]
  },
  {
   "cell_type": "code",
   "execution_count": 84,
   "id": "e760e094-592c-48d2-a2cf-3a04239a256d",
   "metadata": {},
   "outputs": [
    {
     "data": {
      "image/png": "[encoded data removed]",
      "text/plain": [
       "<Figure size 750x750 with 1 Axes>"
      ]
     },
     "metadata": {},
     "output_type": "display_data"
    }
   ],
   "source": [
    "fig, ax = plt.subplots(figsize=(7.5, 7.5))\n",
    "ax.matshow(conf_matrix, cmap=plt.cm.Blues, alpha=0.3)\n",
    "for i in range(conf_matrix.shape[0]):\n",
    "    for j in range(conf_matrix.shape[1]):\n",
    "        ax.text(x=j, y=i,s=conf_matrix[i, j], va='center', ha='center', size='xx-large')\n",
    " \n",
    "plt.xlabel('Predictions', fontsize=18)\n",
    "plt.ylabel('Actuals', fontsize=18)\n",
    "plt.title('Confusion Matrix', fontsize=18)\n",
    "plt.show()"
   ]
  },
  {
   "cell_type": "code",
   "execution_count": null,
   "id": "f7af587f-724d-4de3-8c8b-65abd080cac1",
   "metadata": {},
   "outputs": [],
   "source": []
  }
 ],
 "metadata": {
  "kernelspec": {
   "display_name": "Python 3 (ipykernel)",
   "language": "python",
   "name": "python3"
  },
  "language_info": {
   "codemirror_mode": {
    "name": "ipython",
    "version": 3
   },
   "file_extension": ".py",
   "mimetype": "text/x-python",
   "name": "python",
   "nbconvert_exporter": "python",
   "pygments_lexer": "ipython3",
   "version": "3.11.5"
  }
 },
 "nbformat": 4,
 "nbformat_minor": 5
}
